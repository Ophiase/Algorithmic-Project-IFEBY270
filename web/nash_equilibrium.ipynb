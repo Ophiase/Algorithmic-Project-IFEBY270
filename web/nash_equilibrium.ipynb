{
  "cells": [
    {
      "cell_type": "raw",
      "metadata": {},
      "source": [
        "---\n",
        "title: Nash Equilibrium\n",
        "---"
      ],
      "id": "cbf31838"
    },
    {
      "cell_type": "markdown",
      "metadata": {},
      "source": [
        "## Introduction\n",
        "\n",
        "In game theory we consider two rational agents $x$ and $y$ that both want to maximize their score. \\\n",
        "In discrete cases, $x$ has $m$ possible actions, $y$ has n possible actions. \n",
        "\n",
        "If $x$ and $y$ play simultaneously, we can considers the matrices $A$ and $B$ of dimension $(m,n)$. \\\n",
        "$A_{i,j}$ and $B_{i, j}$ represents respectivily the score of $x$ and $y$ when $x$ plays his $i$-th action and $y$ his $j$-th action.\n",
        "\n",
        "For convenience, we will also call player $x$ as $a$, and $y$ as $b$.\n",
        "\n",
        "### <ins>Definition</ins> Stochastic vector and Strategie\n",
        "Let $v$ a vector. If $\\sum v_i = 1$ and $\\forall i, v_i \\geq 0$, $v$ is a stochastic vector.\n",
        "\n",
        "We call the strategy of the player $x$ and $y$, the stochastic vectors $x$, $y$ that represents the probabilty of choosing each actions.\n",
        "If only one coefficient of a strategy is none negative (ie. equal to one), we call it a pure strategy.\n",
        "\n",
        "A best strategy $\\overline v$ is a strategy that maximise the gain of its player : \\\n",
        "\n",
        "* $\\overline x \\in \\arg \\max_x x A y^t$\n",
        "* $\\overline y \\in \\arg \\max_x x B y^t$\n",
        "\n",
        "<ins>Propertie :</ins> A best strategy is always of convex combination of pure strategies.\n",
        "\n",
        "### <ins>Definition</ins> Zero-sum game \n",
        "Zero-sum game is defined by $B = -A$, which means every gain for $x$ is a loss of the same amplitude to $y$, and the other way around.\n",
        "\n",
        "\n",
        "### <ins>Definition</ins> Nash equilibrium \n",
        "A nash equilibrium is a couple $(x, y)$ of strategies, where $x$ and $y$ are both best strategies.\n",
        "\n",
        "#### <ins>Theorem:</ins> A nash equilibrium always exists.\n",
        "Remark: If we impose strategies to be pure, the theorem doesn't hold. (eg: paper, rock, scissor)\n",
        "\n",
        "## Code\n",
        "\n",
        "To find the nash equilibrium, create a NashEquilibrium object, and solve it.\n",
        "\n",
        "```python\n",
        "solution_x, solution_y = NashEquilibrium(A, B).solve()\n",
        "```\n",
        "\n",
        "### Examples\n"
      ],
      "id": "495c64ae"
    },
    {
      "cell_type": "code",
      "metadata": {},
      "source": [
        "#| echo: false\n",
        "import numpy as np\n",
        "from src.algorithm.nash_equilibrium.nash_equilibrium import NashEquilibrium"
      ],
      "id": "9e456679",
      "execution_count": null,
      "outputs": []
    },
    {
      "cell_type": "code",
      "metadata": {},
      "source": [
        "# Paper Rock Scissor\n",
        "A = np.array([\n",
        "    [1,0,-1],\n",
        "    [0,-1,1],\n",
        "    [-1,1,0]\n",
        "])\n",
        "solution_x, solution_y = NashEquilibrium(A, -A).solve()"
      ],
      "id": "1656b864",
      "execution_count": null,
      "outputs": []
    },
    {
      "cell_type": "code",
      "metadata": {},
      "source": [
        "#| echo: false\n",
        "print(f\"x: {solution_x}\")\n",
        "print(f\"y: {solution_y}\")"
      ],
      "id": "58a20424",
      "execution_count": null,
      "outputs": []
    },
    {
      "cell_type": "code",
      "metadata": {},
      "source": [
        "# Non-zero sum game\n",
        "A = np.array([[1, 2], [3, 4]]) \n",
        "B = np.array([[4, 3], [2, 1]])\n",
        "solution_x, solution_y = NashEquilibrium(A, B).solve()"
      ],
      "id": "fc3510cb",
      "execution_count": null,
      "outputs": []
    },
    {
      "cell_type": "code",
      "metadata": {},
      "source": [
        "#| echo: false\n",
        "print(f\"x: {solution_x}\")\n",
        "print(f\"y: {solution_y}\")"
      ],
      "id": "f6f21c33",
      "execution_count": null,
      "outputs": []
    },
    {
      "cell_type": "markdown",
      "metadata": {},
      "source": [
        "## Modelization\n",
        "\n",
        "We solve this problem using pulp with mixted linear programming (linear + discrete).\n",
        "\n",
        "### Variables :\n",
        "\n",
        "| Variable | Player a | Player b | Domain\n",
        "|- | - | - | - |\n",
        "| Strategies | $x_{a1}, \\dots, x_{am}$ | $x_{b1}, \\dots, x_{bn}$ | $[0,1]$ |\n",
        "| Strategies supports | $s_{a1}, \\dots s_{am}$ | $s_{b1}, \\dots, s_{bn}$ | $\\{0, 1\\}$ |\n",
        "| Regrets | $r_{a1}, \\dots, r_{am}$ | $r_{b1}, \\dots r_{bn}$ | $[0, M]$\n",
        "| Potential Gain | potential_gain_a | potential_gain_b | $[0, M]$\n",
        "| Max Gain (scalar) | max_gain_a | max_gain_b | $[0, M]$\n",
        "\n",
        "M represents respectively the max regret for $a$ and $b$. \\\n",
        "$M_a := \\max A_{ij} - \\min A_{ij}$ \\ \n",
        "$M_b := \\max B_{ij} - \\min B_{ij}$\n",
        "\n",
        "### Constraints\n",
        "#### [Eq Constraint] Stochastic vectors\n",
        "$\\sum x_{ai} = 1$ \\\n",
        "$\\sum x_{bi} = 1$\n",
        "\n",
        "#### [Eq Constraint] Potential gain\n",
        "potential_gain_a $= A y^t$ \\\n",
        "potential_gain_b $= x B$\n",
        "\n",
        "#### [Constraint] Max gain\n",
        "$\\forall i$ max_gain_a $\\geq$ potential_gain_a$_i$ \\\n",
        "$\\forall j$ max_gain_b $\\geq$ potential_gain_b$_j$\n",
        "\n",
        "#### [Eq Constraint] Risk\n",
        "$\\vec{r_a} =$ potential_gain_a $-$ max_gain_a \\\n",
        "$\\vec{r_b} =$ potential_gain_b $-$ max_gain_b\n",
        "\n",
        "#### [Constraint] Best strategy constraint\n",
        "$\\forall i :\\quad$ $s_{ai} = 1_{x_{ai} \\neq 0}\\qquad$ $r_{ai} \\leq (1 - s_{ai}) \\times M_a$ \\\n",
        "$\\forall j :\\quad$ $s_{bj} = 1_{x_{bj} \\neq 0}\\qquad$ $r_{bj} \\leq (1 - s_{bj}) \\times M_b$\n",
        "\n",
        "### Objective function :\n",
        "\n",
        "**Minimize** : $\\sum r_{ai} + \\sum r_{bi}$"
      ],
      "id": "dc17cca3"
    }
  ],
  "metadata": {
    "kernelspec": {
      "display_name": "Python 3",
      "language": "python",
      "name": "python3"
    }
  },
  "nbformat": 4,
  "nbformat_minor": 5
}
{
 "cells": [
  {
   "cell_type": "code",
   "execution_count": null,
   "metadata": {},
   "outputs": [],
   "source": [
    "import pulp\n",
    "import numpy as np"
   ]
  },
  {
   "cell_type": "code",
   "execution_count": null,
   "metadata": {},
   "outputs": [],
   "source": [
    "def transformer_jeu_en_probleme_optimisation(A, B, verbose=True):\n",
    "    prob = pulp.LpProblem(\"Optimization Problem\", pulp.LpMinimize)\n",
    "\n",
    "    m = A.shape[0]\n",
    "    n = A.shape[1]\n",
    "\n",
    "    # VARIABLES\n",
    "\n",
    "    xa, xb = [], []\n",
    "    ra, rb = [], []\n",
    "    sa, sb = [], []\n",
    "\n",
    "    def init(i, x, r, s, letter):\n",
    "        x.append(pulp.LpVariable(f\"x{letter}_{i}\", lowBound=0, upBound=1)) # [0, 1]\n",
    "        r.append(pulp.LpVariable(f\"r{letter}_{i}\", lowBound=0)) # >= 0\n",
    "        s.append(pulp.LpVariable(f\"s{letter}_{i}\", cat=pulp.LpBinary)) # {0, 1}\n",
    "\n",
    "    for i in range(m) :\n",
    "        init(i, xa,ra,sa, \"a\")\n",
    "    for j in range(n):\n",
    "        init(j, xb,rb,sb, \"b\")\n",
    "\n",
    "    gain_a = pulp.LpVariable(\"gain_a\", lowBound=0)\n",
    "    gain_b = pulp.LpVariable(\"gain_b\", lowBound=0)\n",
    "\n",
    "    # for i in range(m):\n",
    "    #     prob += gain_a == pulp.lpSum(xa[i] * A[i, j] * xb[j] for j in range(n))\n",
    "\n",
    "    # for j in range(n):\n",
    "    #     prob += gain_b == pulp.lpSum(xb[j] * B[i, j] * xa[i] for i in range(n))\n",
    "\n",
    "    # CONSTRAINTS\n",
    "\n",
    "\n",
    "    # ---------------------------\n",
    "\n",
    "    prob = pulp.lpSum(ra) + pulp.lpSum(rb)\n",
    "\n",
    "    prob.solve()\n",
    "    \n",
    "    if verbose :\n",
    "        print(f\"Status: {pulp.LpStatus[prob.status]}\")\n",
    "        for v in prob.variables():\n",
    "            print(f\"{v.name}: {v.value()}\")\n",
    "        print(f\"Objective: {pulp.value(prob.objective)}\")\n",
    "    \n",
    "    solution = pulp.value(prob.objective)\n",
    "\n",
    "    return solution"
   ]
  },
  {
   "cell_type": "code",
   "execution_count": null,
   "metadata": {},
   "outputs": [],
   "source": [
    "def tester_equilibre_de_nash(matrice_A, matrice_B, equilibre_attendu):\n",
    "    solution = transformer_jeu_en_probleme_optimisation(matrice_A, matrice_B)\n",
    "    assert solution == equilibre_attendu, f\"Erreur: l'équilibre de Nash n'est pas correct. Attendu: {equilibre_attendu}, Obtenu: {solution}\""
   ]
  },
  {
   "cell_type": "code",
   "execution_count": null,
   "metadata": {},
   "outputs": [],
   "source": [
    "tester_equilibre_de_nash(np.array([[3, 2], [1, 4]]), np.array([[2, 1], [3, 2]]), 3)\n",
    "tester_equilibre_de_nash(np.array([[1, 2], [3, 4]]), np.array([[4, 3], [2, 1]]), 2)\n",
    "\n",
    "print(\"Tous les tests de l'équilibre de Nash ont réussi.\")"
   ]
  },
  {
   "cell_type": "code",
   "execution_count": null,
   "metadata": {},
   "outputs": [],
   "source": []
  }
 ],
 "metadata": {
  "kernelspec": {
   "display_name": "Python 3",
   "language": "python",
   "name": "python3"
  },
  "language_info": {
   "codemirror_mode": {
    "name": "ipython",
    "version": 3
   },
   "file_extension": ".py",
   "mimetype": "text/x-python",
   "name": "python",
   "nbconvert_exporter": "python",
   "pygments_lexer": "ipython3",
   "version": "3.10.12"
  }
 },
 "nbformat": 4,
 "nbformat_minor": 2
}
